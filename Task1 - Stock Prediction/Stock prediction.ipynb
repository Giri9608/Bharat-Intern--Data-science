{
 "cells": [
  {
   "cell_type": "code",
   "execution_count": 135,
   "id": "af717b73",
   "metadata": {},
   "outputs": [],
   "source": [
    "##Task 1-Stock Price Prediction Using LSTM\n",
    "## This project aims to develop a prediction model to predict the stock prices of the company using LSTM (Long Short Term Memory) Neural Network.\n",
    "##Historical dataset of Google is taken for Prediction"
   ]
  },
  {
   "cell_type": "markdown",
   "id": "fb92aa93",
   "metadata": {},
   "source": [
    "## Importing the Libraries"
   ]
  },
  {
   "cell_type": "code",
   "execution_count": 111,
   "id": "0e219acd",
   "metadata": {},
   "outputs": [],
   "source": [
    "import numpy as np\n",
    "import pandas as pd\n",
    "from sklearn.preprocessing import MinMaxScaler\n",
    "from keras.models import Sequential\n",
    "from keras.layers import LSTM, Dense\n",
    "import matplotlib.pyplot as plt"
   ]
  },
  {
   "cell_type": "markdown",
   "id": "9b3d11bf",
   "metadata": {},
   "source": [
    "## Load the dataset"
   ]
  },
  {
   "cell_type": "code",
   "execution_count": 112,
   "id": "b57ac42e",
   "metadata": {},
   "outputs": [],
   "source": [
    "# Load the CSV data into a pandas DataFrame\n",
    "google_data = pd.read_csv(r\"C:\\Users\\Admin\\Downloads\\Bharat Intern\\GOOGL.csv\")"
   ]
  },
  {
   "cell_type": "markdown",
   "id": "dffa5679",
   "metadata": {},
   "source": [
    "## Checking any Missing Values"
   ]
  },
  {
   "cell_type": "code",
   "execution_count": 113,
   "id": "e415153f",
   "metadata": {},
   "outputs": [
    {
     "data": {
      "text/plain": [
       "Date            0\n",
       "Open            0\n",
       "High            0\n",
       "Low             0\n",
       "Close           0\n",
       "Volume          0\n",
       "Dividends       0\n",
       "Stock Splits    0\n",
       "dtype: int64"
      ]
     },
     "execution_count": 113,
     "metadata": {},
     "output_type": "execute_result"
    }
   ],
   "source": [
    "google_data.isnull().sum()"
   ]
  },
  {
   "cell_type": "markdown",
   "id": "276f1cd2",
   "metadata": {},
   "source": [
    "## Information of the data"
   ]
  },
  {
   "cell_type": "code",
   "execution_count": 114,
   "id": "0efe70ed",
   "metadata": {},
   "outputs": [
    {
     "name": "stdout",
     "output_type": "stream",
     "text": [
      "<class 'pandas.core.frame.DataFrame'>\n",
      "RangeIndex: 4763 entries, 0 to 4762\n",
      "Data columns (total 8 columns):\n",
      " #   Column        Non-Null Count  Dtype  \n",
      "---  ------        --------------  -----  \n",
      " 0   Date          4763 non-null   object \n",
      " 1   Open          4763 non-null   float64\n",
      " 2   High          4763 non-null   float64\n",
      " 3   Low           4763 non-null   float64\n",
      " 4   Close         4763 non-null   float64\n",
      " 5   Volume        4763 non-null   int64  \n",
      " 6   Dividends     4763 non-null   float64\n",
      " 7   Stock Splits  4763 non-null   float64\n",
      "dtypes: float64(6), int64(1), object(1)\n",
      "memory usage: 297.8+ KB\n"
     ]
    }
   ],
   "source": [
    "google_data.info()"
   ]
  },
  {
   "cell_type": "markdown",
   "id": "9eb5cca0",
   "metadata": {},
   "source": [
    "## Statistical Measures"
   ]
  },
  {
   "cell_type": "code",
   "execution_count": 115,
   "id": "1b950723",
   "metadata": {},
   "outputs": [
    {
     "data": {
      "text/html": [
       "<div>\n",
       "<style scoped>\n",
       "    .dataframe tbody tr th:only-of-type {\n",
       "        vertical-align: middle;\n",
       "    }\n",
       "\n",
       "    .dataframe tbody tr th {\n",
       "        vertical-align: top;\n",
       "    }\n",
       "\n",
       "    .dataframe thead th {\n",
       "        text-align: right;\n",
       "    }\n",
       "</style>\n",
       "<table border=\"1\" class=\"dataframe\">\n",
       "  <thead>\n",
       "    <tr style=\"text-align: right;\">\n",
       "      <th></th>\n",
       "      <th>Open</th>\n",
       "      <th>High</th>\n",
       "      <th>Low</th>\n",
       "      <th>Close</th>\n",
       "      <th>Volume</th>\n",
       "      <th>Dividends</th>\n",
       "      <th>Stock Splits</th>\n",
       "    </tr>\n",
       "  </thead>\n",
       "  <tbody>\n",
       "    <tr>\n",
       "      <th>count</th>\n",
       "      <td>4763.000000</td>\n",
       "      <td>4763.000000</td>\n",
       "      <td>4763.000000</td>\n",
       "      <td>4763.000000</td>\n",
       "      <td>4.763000e+03</td>\n",
       "      <td>4763.0</td>\n",
       "      <td>4763.000000</td>\n",
       "    </tr>\n",
       "    <tr>\n",
       "      <th>mean</th>\n",
       "      <td>39.762061</td>\n",
       "      <td>40.179887</td>\n",
       "      <td>39.341565</td>\n",
       "      <td>39.769850</td>\n",
       "      <td>1.223242e+08</td>\n",
       "      <td>0.0</td>\n",
       "      <td>0.004619</td>\n",
       "    </tr>\n",
       "    <tr>\n",
       "      <th>std</th>\n",
       "      <td>36.434451</td>\n",
       "      <td>36.850922</td>\n",
       "      <td>36.030286</td>\n",
       "      <td>36.448726</td>\n",
       "      <td>1.503214e+08</td>\n",
       "      <td>0.0</td>\n",
       "      <td>0.291231</td>\n",
       "    </tr>\n",
       "    <tr>\n",
       "      <th>min</th>\n",
       "      <td>2.482232</td>\n",
       "      <td>2.546046</td>\n",
       "      <td>2.401401</td>\n",
       "      <td>2.502753</td>\n",
       "      <td>9.312000e+06</td>\n",
       "      <td>0.0</td>\n",
       "      <td>0.000000</td>\n",
       "    </tr>\n",
       "    <tr>\n",
       "      <th>25%</th>\n",
       "      <td>12.784910</td>\n",
       "      <td>12.929304</td>\n",
       "      <td>12.673673</td>\n",
       "      <td>12.792167</td>\n",
       "      <td>3.260720e+07</td>\n",
       "      <td>0.0</td>\n",
       "      <td>0.000000</td>\n",
       "    </tr>\n",
       "    <tr>\n",
       "      <th>50%</th>\n",
       "      <td>26.577499</td>\n",
       "      <td>26.832500</td>\n",
       "      <td>26.340500</td>\n",
       "      <td>26.605499</td>\n",
       "      <td>6.690503e+07</td>\n",
       "      <td>0.0</td>\n",
       "      <td>0.000000</td>\n",
       "    </tr>\n",
       "    <tr>\n",
       "      <th>75%</th>\n",
       "      <td>56.107248</td>\n",
       "      <td>56.778250</td>\n",
       "      <td>55.587502</td>\n",
       "      <td>56.147001</td>\n",
       "      <td>1.489289e+08</td>\n",
       "      <td>0.0</td>\n",
       "      <td>0.000000</td>\n",
       "    </tr>\n",
       "    <tr>\n",
       "      <th>max</th>\n",
       "      <td>151.250000</td>\n",
       "      <td>151.546494</td>\n",
       "      <td>148.899002</td>\n",
       "      <td>149.838501</td>\n",
       "      <td>1.643023e+09</td>\n",
       "      <td>0.0</td>\n",
       "      <td>20.000000</td>\n",
       "    </tr>\n",
       "  </tbody>\n",
       "</table>\n",
       "</div>"
      ],
      "text/plain": [
       "              Open         High          Low        Close        Volume  \\\n",
       "count  4763.000000  4763.000000  4763.000000  4763.000000  4.763000e+03   \n",
       "mean     39.762061    40.179887    39.341565    39.769850  1.223242e+08   \n",
       "std      36.434451    36.850922    36.030286    36.448726  1.503214e+08   \n",
       "min       2.482232     2.546046     2.401401     2.502753  9.312000e+06   \n",
       "25%      12.784910    12.929304    12.673673    12.792167  3.260720e+07   \n",
       "50%      26.577499    26.832500    26.340500    26.605499  6.690503e+07   \n",
       "75%      56.107248    56.778250    55.587502    56.147001  1.489289e+08   \n",
       "max     151.250000   151.546494   148.899002   149.838501  1.643023e+09   \n",
       "\n",
       "       Dividends  Stock Splits  \n",
       "count     4763.0   4763.000000  \n",
       "mean         0.0      0.004619  \n",
       "std          0.0      0.291231  \n",
       "min          0.0      0.000000  \n",
       "25%          0.0      0.000000  \n",
       "50%          0.0      0.000000  \n",
       "75%          0.0      0.000000  \n",
       "max          0.0     20.000000  "
      ]
     },
     "execution_count": 115,
     "metadata": {},
     "output_type": "execute_result"
    }
   ],
   "source": [
    "google_data.describe()"
   ]
  },
  {
   "cell_type": "markdown",
   "id": "f17ba9bf",
   "metadata": {},
   "source": [
    "## Convert the 'Date' column to a datetime object"
   ]
  },
  {
   "cell_type": "code",
   "execution_count": 116,
   "id": "52c09573",
   "metadata": {},
   "outputs": [],
   "source": [
    "google_data['Date'] = pd.to_datetime(google_data['Date'], utc=True)"
   ]
  },
  {
   "cell_type": "markdown",
   "id": "7c614a2d",
   "metadata": {},
   "source": [
    "## Sort the data by date"
   ]
  },
  {
   "cell_type": "code",
   "execution_count": 117,
   "id": "e3fc50d7",
   "metadata": {},
   "outputs": [],
   "source": [
    "google_data = google_data.sort_values('Date')"
   ]
  },
  {
   "cell_type": "markdown",
   "id": "631f63cf",
   "metadata": {},
   "source": [
    "## Extract the 'Close' prices as the target variable"
   ]
  },
  {
   "cell_type": "code",
   "execution_count": 118,
   "id": "adcbc02a",
   "metadata": {},
   "outputs": [],
   "source": [
    "data = google_data[['Date', 'Close']].copy()"
   ]
  },
  {
   "cell_type": "markdown",
   "id": "294efbef",
   "metadata": {},
   "source": [
    "## Normalize the Data"
   ]
  },
  {
   "cell_type": "code",
   "execution_count": 120,
   "id": "5ec80d77",
   "metadata": {},
   "outputs": [],
   "source": [
    "scaler = MinMaxScaler()\n",
    "data.loc[:, 'Close'] = scaler.fit_transform(data.loc[:, 'Close'].values.reshape(-1, 1))"
   ]
  },
  {
   "cell_type": "markdown",
   "id": "a0d413ca",
   "metadata": {},
   "source": [
    "## Split the Data into Training and Testing Sets"
   ]
  },
  {
   "cell_type": "code",
   "execution_count": 121,
   "id": "932e0f5f",
   "metadata": {},
   "outputs": [],
   "source": [
    "train_size = int(len(data) * 0.8)\n",
    "train_data = data.iloc[:train_size]\n",
    "test_data = data.iloc[train_size:]"
   ]
  },
  {
   "cell_type": "markdown",
   "id": "a9fb878a",
   "metadata": {},
   "source": [
    "## Prepare Data for LSTM"
   ]
  },
  {
   "cell_type": "code",
   "execution_count": 122,
   "id": "89cc44c7",
   "metadata": {},
   "outputs": [],
   "source": [
    "def create_sequences(data, seq_length):\n",
    "    sequences = []\n",
    "    targets = []\n",
    "    for i in range(len(data) - seq_length):\n",
    "        seq = data['Close'].values[i:i+seq_length]\n",
    "        target = data['Close'].values[i+seq_length]\n",
    "        sequences.append(seq)\n",
    "        targets.append(target)\n",
    "    return np.array(sequences), np.array(targets)"
   ]
  },
  {
   "cell_type": "code",
   "execution_count": 123,
   "id": "11fb2f38",
   "metadata": {},
   "outputs": [],
   "source": [
    "seq_length = 10  # Length of the input sequence\n",
    "X_train, y_train = create_sequences(train_data, seq_length)\n",
    "X_test, y_test = create_sequences(test_data, seq_length)"
   ]
  },
  {
   "cell_type": "markdown",
   "id": "55a93d86",
   "metadata": {},
   "source": [
    "## Use a different loss function"
   ]
  },
  {
   "cell_type": "code",
   "execution_count": 124,
   "id": "9367f0da",
   "metadata": {},
   "outputs": [],
   "source": [
    "loss_func = 'mean_absolute_error'"
   ]
  },
  {
   "cell_type": "markdown",
   "id": "2ab337e8",
   "metadata": {},
   "source": [
    "## Use a different optimizer"
   ]
  },
  {
   "cell_type": "code",
   "execution_count": 125,
   "id": "3a5e52f9",
   "metadata": {},
   "outputs": [],
   "source": [
    "optimizer = 'rmsprop'"
   ]
  },
  {
   "cell_type": "markdown",
   "id": "80996c4d",
   "metadata": {},
   "source": [
    "## Tune the hyperparameters of the LSTM model"
   ]
  },
  {
   "cell_type": "code",
   "execution_count": 126,
   "id": "7493899f",
   "metadata": {},
   "outputs": [],
   "source": [
    "epochs = 100\n",
    "batch_size = 128"
   ]
  },
  {
   "cell_type": "markdown",
   "id": "9bf483c4",
   "metadata": {},
   "source": [
    "## Build the LSTM Model"
   ]
  },
  {
   "cell_type": "code",
   "execution_count": 127,
   "id": "7e207167",
   "metadata": {},
   "outputs": [],
   "source": [
    "model = Sequential()\n",
    "model.add(LSTM(50, input_shape=(seq_length, 1)))\n",
    "model.add(Dense(1))\n",
    "model.compile(loss=loss_func, optimizer=optimizer)"
   ]
  },
  {
   "cell_type": "markdown",
   "id": "41c0a440",
   "metadata": {},
   "source": [
    "## Train the LSTM Model"
   ]
  },
  {
   "cell_type": "code",
   "execution_count": 128,
   "id": "3177aac0",
   "metadata": {
    "scrolled": false
   },
   "outputs": [
    {
     "name": "stdout",
     "output_type": "stream",
     "text": [
      "Epoch 1/100\n",
      "30/30 [==============================] - 3s 14ms/step - loss: 0.0274\n",
      "Epoch 2/100\n",
      "30/30 [==============================] - 0s 13ms/step - loss: 0.0112\n",
      "Epoch 3/100\n",
      "30/30 [==============================] - 0s 14ms/step - loss: 0.0097\n",
      "Epoch 4/100\n",
      "30/30 [==============================] - 0s 15ms/step - loss: 0.0096\n",
      "Epoch 5/100\n",
      "30/30 [==============================] - 0s 14ms/step - loss: 0.0093\n",
      "Epoch 6/100\n",
      "30/30 [==============================] - 0s 15ms/step - loss: 0.0088\n",
      "Epoch 7/100\n",
      "30/30 [==============================] - 0s 15ms/step - loss: 0.0087\n",
      "Epoch 8/100\n",
      "30/30 [==============================] - 0s 16ms/step - loss: 0.0087\n",
      "Epoch 9/100\n",
      "30/30 [==============================] - 0s 15ms/step - loss: 0.0084\n",
      "Epoch 10/100\n",
      "30/30 [==============================] - 0s 15ms/step - loss: 0.0084\n",
      "Epoch 11/100\n",
      "30/30 [==============================] - 1s 18ms/step - loss: 0.0083\n",
      "Epoch 12/100\n",
      "30/30 [==============================] - 0s 15ms/step - loss: 0.0081\n",
      "Epoch 13/100\n",
      "30/30 [==============================] - 0s 13ms/step - loss: 0.0079\n",
      "Epoch 14/100\n",
      "30/30 [==============================] - 0s 15ms/step - loss: 0.0079\n",
      "Epoch 15/100\n",
      "30/30 [==============================] - 0s 14ms/step - loss: 0.0079\n",
      "Epoch 16/100\n",
      "30/30 [==============================] - 0s 15ms/step - loss: 0.0078\n",
      "Epoch 17/100\n",
      "30/30 [==============================] - 1s 18ms/step - loss: 0.0078\n",
      "Epoch 18/100\n",
      "30/30 [==============================] - 0s 16ms/step - loss: 0.0075\n",
      "Epoch 19/100\n",
      "30/30 [==============================] - 0s 15ms/step - loss: 0.0075\n",
      "Epoch 20/100\n",
      "30/30 [==============================] - 0s 14ms/step - loss: 0.0074\n",
      "Epoch 21/100\n",
      "30/30 [==============================] - 0s 14ms/step - loss: 0.0074\n",
      "Epoch 22/100\n",
      "30/30 [==============================] - 0s 15ms/step - loss: 0.0072\n",
      "Epoch 23/100\n",
      "30/30 [==============================] - 0s 15ms/step - loss: 0.0072\n",
      "Epoch 24/100\n",
      "30/30 [==============================] - 0s 15ms/step - loss: 0.0070\n",
      "Epoch 25/100\n",
      "30/30 [==============================] - 0s 16ms/step - loss: 0.0071\n",
      "Epoch 26/100\n",
      "30/30 [==============================] - 0s 15ms/step - loss: 0.0070\n",
      "Epoch 27/100\n",
      "30/30 [==============================] - 0s 15ms/step - loss: 0.0069\n",
      "Epoch 28/100\n",
      "30/30 [==============================] - 0s 15ms/step - loss: 0.0069\n",
      "Epoch 29/100\n",
      "30/30 [==============================] - 1s 17ms/step - loss: 0.0068\n",
      "Epoch 30/100\n",
      "30/30 [==============================] - 1s 21ms/step - loss: 0.0068\n",
      "Epoch 31/100\n",
      "30/30 [==============================] - 1s 19ms/step - loss: 0.0067\n",
      "Epoch 32/100\n",
      "30/30 [==============================] - 0s 15ms/step - loss: 0.0065\n",
      "Epoch 33/100\n",
      "30/30 [==============================] - 0s 14ms/step - loss: 0.0067\n",
      "Epoch 34/100\n",
      "30/30 [==============================] - 0s 14ms/step - loss: 0.0064\n",
      "Epoch 35/100\n",
      "30/30 [==============================] - 0s 14ms/step - loss: 0.0065\n",
      "Epoch 36/100\n",
      "30/30 [==============================] - 0s 13ms/step - loss: 0.0064\n",
      "Epoch 37/100\n",
      "30/30 [==============================] - 0s 12ms/step - loss: 0.0063\n",
      "Epoch 38/100\n",
      "30/30 [==============================] - 0s 12ms/step - loss: 0.0064\n",
      "Epoch 39/100\n",
      "30/30 [==============================] - 0s 14ms/step - loss: 0.0064\n",
      "Epoch 40/100\n",
      "30/30 [==============================] - 0s 13ms/step - loss: 0.0063\n",
      "Epoch 41/100\n",
      "30/30 [==============================] - 0s 13ms/step - loss: 0.0062\n",
      "Epoch 42/100\n",
      "30/30 [==============================] - 0s 13ms/step - loss: 0.0061\n",
      "Epoch 43/100\n",
      "30/30 [==============================] - 1s 20ms/step - loss: 0.0060\n",
      "Epoch 44/100\n",
      "30/30 [==============================] - 1s 18ms/step - loss: 0.0060\n",
      "Epoch 45/100\n",
      "30/30 [==============================] - 0s 15ms/step - loss: 0.0061\n",
      "Epoch 46/100\n",
      "30/30 [==============================] - 0s 16ms/step - loss: 0.0060\n",
      "Epoch 47/100\n",
      "30/30 [==============================] - 0s 15ms/step - loss: 0.0060\n",
      "Epoch 48/100\n",
      "30/30 [==============================] - 0s 13ms/step - loss: 0.0059\n",
      "Epoch 49/100\n",
      "30/30 [==============================] - 0s 13ms/step - loss: 0.0058\n",
      "Epoch 50/100\n",
      "30/30 [==============================] - 0s 14ms/step - loss: 0.0060\n",
      "Epoch 51/100\n",
      "30/30 [==============================] - 0s 13ms/step - loss: 0.0060\n",
      "Epoch 52/100\n",
      "30/30 [==============================] - 0s 13ms/step - loss: 0.0058\n",
      "Epoch 53/100\n",
      "30/30 [==============================] - 0s 15ms/step - loss: 0.0059\n",
      "Epoch 54/100\n",
      "30/30 [==============================] - 0s 14ms/step - loss: 0.0059\n",
      "Epoch 55/100\n",
      "30/30 [==============================] - 0s 13ms/step - loss: 0.0057\n",
      "Epoch 56/100\n",
      "30/30 [==============================] - 0s 15ms/step - loss: 0.0056\n",
      "Epoch 57/100\n",
      "30/30 [==============================] - 0s 13ms/step - loss: 0.0057\n",
      "Epoch 58/100\n",
      "30/30 [==============================] - 0s 12ms/step - loss: 0.0056\n",
      "Epoch 59/100\n",
      "30/30 [==============================] - 0s 13ms/step - loss: 0.0056\n",
      "Epoch 60/100\n",
      "30/30 [==============================] - 0s 13ms/step - loss: 0.0056\n",
      "Epoch 61/100\n",
      "30/30 [==============================] - 0s 13ms/step - loss: 0.0055\n",
      "Epoch 62/100\n",
      "30/30 [==============================] - 1s 19ms/step - loss: 0.0055\n",
      "Epoch 63/100\n",
      "30/30 [==============================] - 0s 15ms/step - loss: 0.0054\n",
      "Epoch 64/100\n",
      "30/30 [==============================] - 0s 15ms/step - loss: 0.0054\n",
      "Epoch 65/100\n",
      "30/30 [==============================] - 1s 17ms/step - loss: 0.0055\n",
      "Epoch 66/100\n",
      "30/30 [==============================] - 0s 15ms/step - loss: 0.0054\n",
      "Epoch 67/100\n",
      "30/30 [==============================] - 0s 14ms/step - loss: 0.0054\n",
      "Epoch 68/100\n",
      "30/30 [==============================] - 1s 19ms/step - loss: 0.0054\n",
      "Epoch 69/100\n",
      "30/30 [==============================] - 1s 18ms/step - loss: 0.0053\n",
      "Epoch 70/100\n",
      "30/30 [==============================] - 1s 18ms/step - loss: 0.0052\n",
      "Epoch 71/100\n",
      "30/30 [==============================] - 1s 17ms/step - loss: 0.0052\n",
      "Epoch 72/100\n",
      "30/30 [==============================] - 1s 19ms/step - loss: 0.0052\n",
      "Epoch 73/100\n",
      "30/30 [==============================] - 0s 14ms/step - loss: 0.0052\n",
      "Epoch 74/100\n",
      "30/30 [==============================] - 0s 14ms/step - loss: 0.0051\n",
      "Epoch 75/100\n",
      "30/30 [==============================] - 0s 16ms/step - loss: 0.0052\n",
      "Epoch 76/100\n",
      "30/30 [==============================] - 1s 22ms/step - loss: 0.0052\n",
      "Epoch 77/100\n",
      "30/30 [==============================] - 1s 21ms/step - loss: 0.0050\n",
      "Epoch 78/100\n",
      "30/30 [==============================] - 0s 13ms/step - loss: 0.0051\n",
      "Epoch 79/100\n",
      "30/30 [==============================] - 0s 15ms/step - loss: 0.0051\n",
      "Epoch 80/100\n",
      "30/30 [==============================] - 1s 17ms/step - loss: 0.0050\n",
      "Epoch 81/100\n",
      "30/30 [==============================] - 0s 15ms/step - loss: 0.0050\n",
      "Epoch 82/100\n",
      "30/30 [==============================] - 0s 15ms/step - loss: 0.0050\n",
      "Epoch 83/100\n",
      "30/30 [==============================] - 1s 22ms/step - loss: 0.0050\n",
      "Epoch 84/100\n",
      "30/30 [==============================] - 0s 14ms/step - loss: 0.0051\n",
      "Epoch 85/100\n",
      "30/30 [==============================] - 0s 16ms/step - loss: 0.0048\n",
      "Epoch 86/100\n",
      "30/30 [==============================] - 0s 16ms/step - loss: 0.0049\n",
      "Epoch 87/100\n",
      "30/30 [==============================] - 0s 15ms/step - loss: 0.0050\n",
      "Epoch 88/100\n",
      "30/30 [==============================] - 0s 16ms/step - loss: 0.0050\n",
      "Epoch 89/100\n",
      "30/30 [==============================] - 0s 16ms/step - loss: 0.0048\n",
      "Epoch 90/100\n",
      "30/30 [==============================] - 1s 18ms/step - loss: 0.0048\n",
      "Epoch 91/100\n",
      "30/30 [==============================] - 1s 23ms/step - loss: 0.0049\n",
      "Epoch 92/100\n",
      "30/30 [==============================] - 0s 15ms/step - loss: 0.0049\n",
      "Epoch 93/100\n",
      "30/30 [==============================] - 0s 14ms/step - loss: 0.0048\n",
      "Epoch 94/100\n",
      "30/30 [==============================] - 0s 15ms/step - loss: 0.0049\n",
      "Epoch 95/100\n",
      "30/30 [==============================] - 0s 15ms/step - loss: 0.0048\n",
      "Epoch 96/100\n",
      "30/30 [==============================] - 0s 14ms/step - loss: 0.0048\n",
      "Epoch 97/100\n",
      "30/30 [==============================] - 0s 15ms/step - loss: 0.0047\n",
      "Epoch 98/100\n",
      "30/30 [==============================] - 0s 15ms/step - loss: 0.0047\n",
      "Epoch 99/100\n",
      "30/30 [==============================] - 0s 15ms/step - loss: 0.0047\n",
      "Epoch 100/100\n",
      "30/30 [==============================] - 0s 14ms/step - loss: 0.0046\n"
     ]
    },
    {
     "data": {
      "text/plain": [
       "<keras.callbacks.History at 0x1cf8ca86eb0>"
      ]
     },
     "execution_count": 128,
     "metadata": {},
     "output_type": "execute_result"
    }
   ],
   "source": [
    "model.fit(X_train, y_train, epochs=epochs, batch_size=batch_size, verbose=1)"
   ]
  },
  {
   "cell_type": "markdown",
   "id": "2d4e2dec",
   "metadata": {},
   "source": [
    "## Make Predictions"
   ]
  },
  {
   "cell_type": "code",
   "execution_count": 131,
   "id": "e3e10675",
   "metadata": {},
   "outputs": [
    {
     "name": "stdout",
     "output_type": "stream",
     "text": [
      "30/30 [==============================] - 0s 4ms/step\n"
     ]
    }
   ],
   "source": [
    "y_pred = model.predict(X_test)"
   ]
  },
  {
   "cell_type": "markdown",
   "id": "f0fcb280",
   "metadata": {},
   "source": [
    "## Inverse transform the scaled predictions to get the actual stock prices"
   ]
  },
  {
   "cell_type": "code",
   "execution_count": 132,
   "id": "31ec2289",
   "metadata": {},
   "outputs": [],
   "source": [
    "y_pred_actual = scaler.inverse_transform(y_pred)\n",
    "y_test_actual = scaler.inverse_transform(y_test.reshape(-1, 1))"
   ]
  },
  {
   "cell_type": "markdown",
   "id": "f2e42452",
   "metadata": {},
   "source": [
    "## Plot the actual vs. predicted stock prices"
   ]
  },
  {
   "cell_type": "code",
   "execution_count": 133,
   "id": "c08a534d",
   "metadata": {},
   "outputs": [
    {
     "data": {
      "image/png": "[encoded data removed]",
      "text/plain": [
       "<Figure size 1200x600 with 1 Axes>"
      ]
     },
     "metadata": {},
     "output_type": "display_data"
    }
   ],
   "source": [
    "plt.figure(figsize=(12, 6))\n",
    "plt.plot(y_test_actual, label='Actual Price')\n",
    "plt.plot(y_pred_actual, label='Predicted Price')\n",
    "plt.legend()\n",
    "plt.title('Actual vs. Predicted Stock Price')\n",
    "plt.xlabel('Time')\n",
    "plt.ylabel('Stock Price')\n",
    "plt.show()"
   ]
  },
  {
   "cell_type": "markdown",
   "id": "0f5935a5",
   "metadata": {},
   "source": [
    "## Evaluation Metrics"
   ]
  },
  {
   "cell_type": "code",
   "execution_count": 136,
   "id": "4f5fa85d",
   "metadata": {},
   "outputs": [
    {
     "name": "stdout",
     "output_type": "stream",
     "text": [
      "Mean Absolute Error (MAE): 2.45\n",
      "Mean Squared Error (MSE): 8.98\n",
      "Root Mean Squared Error (RMSE): 3.00\n",
      "R-squared (R2) score: 0.99\n"
     ]
    }
   ],
   "source": [
    "from sklearn.metrics import mean_absolute_error, mean_squared_error, r2_score\n",
    "\n",
    "# Calculate Mean Absolute Error (MAE)\n",
    "mae = mean_absolute_error(y_test_actual, y_pred_actual)\n",
    "\n",
    "# Calculate Mean Squared Error (MSE)\n",
    "mse = mean_squared_error(y_test_actual, y_pred_actual)\n",
    "\n",
    "# Calculate Root Mean Squared Error (RMSE)\n",
    "rmse = np.sqrt(mse)\n",
    "\n",
    "# Calculate R-squared (R2) score\n",
    "r2 = r2_score(y_test_actual, y_pred_actual)\n",
    "\n",
    "print(f\"Mean Absolute Error (MAE): {mae:.2f}\")\n",
    "print(f\"Mean Squared Error (MSE): {mse:.2f}\")\n",
    "print(f\"Root Mean Squared Error (RMSE): {rmse:.2f}\")\n",
    "print(f\"R-squared (R2) score: {r2:.2f}\")\n"
   ]
  },
  {
   "cell_type": "code",
   "execution_count": 2,
   "id": "29aa80c6",
   "metadata": {},
   "outputs": [],
   "source": [
    "## Conclusion\n",
    "## These metrics indicate that the model is performing quite well, with low errors and a high R-squared value (close to 1), suggesting that the model's predictions are in good agreement with the actual stock prices."
   ]
  }
 ],
 "metadata": {
  "kernelspec": {
   "display_name": "Python 3 (ipykernel)",
   "language": "python",
   "name": "python3"
  },
  "language_info": {
   "codemirror_mode": {
    "name": "ipython",
    "version": 3
   },
   "file_extension": ".py",
   "mimetype": "text/x-python",
   "name": "python",
   "nbconvert_exporter": "python",
   "pygments_lexer": "ipython3",
   "version": "3.9.13"
  }
 },
 "nbformat": 4,
 "nbformat_minor": 5
}
